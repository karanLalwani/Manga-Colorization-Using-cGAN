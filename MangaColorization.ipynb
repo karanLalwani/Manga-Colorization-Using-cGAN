{
 "cells": [
  {
   "cell_type": "code",
   "execution_count": null,
   "metadata": {
    "colab": {
     "base_uri": "https://localhost:8080/",
     "height": 34
    },
    "colab_type": "code",
    "id": "_KutrSivS4hW",
    "outputId": "d8fbea50-427e-414e-df3b-c9574b5c0396"
   },
   "outputs": [],
   "source": [
    "import csv\n",
    "import numpy as np\n",
    "import matplotlib.pyplot as plt\n",
    "from preprocessing import *\n",
    "from model import *\n",
    "from keras.optimizers import Adam\n",
    "\n",
    "%matplotlib inline\n",
    "%load_ext autoreload\n",
    "%autoreload 2"
   ]
  },
  {
   "cell_type": "code",
   "execution_count": null,
   "metadata": {
    "colab": {
     "base_uri": "https://localhost:8080/",
     "height": 121
    },
    "colab_type": "code",
    "id": "C7Ll7HTARLQq",
    "outputId": "909c2d64-0c06-4e2f-a153-f6cde724499d"
   },
   "outputs": [],
   "source": [
    "# from google.colab import drive\n",
    "# drive.mount('/content/gdrive', force_remount=True)"
   ]
  },
  {
   "cell_type": "code",
   "execution_count": null,
   "metadata": {
    "colab": {
     "base_uri": "https://localhost:8080/",
     "height": 1000
    },
    "colab_type": "code",
    "id": "pCjkWJaEUXdQ",
    "outputId": "e0542415-fc3b-46b7-f70c-ea39877bf74a"
   },
   "outputs": [],
   "source": [
    "# !unzip gdrive/My\\ Drive/ComicDataset.zip"
   ]
  },
  {
   "cell_type": "code",
   "execution_count": null,
   "metadata": {
    "colab": {
     "base_uri": "https://localhost:8080/",
     "height": 67
    },
    "colab_type": "code",
    "id": "5O-sveUqS4hm",
    "outputId": "59c72ca1-0e14-4102-9f58-6e9bb04f7ba3",
    "scrolled": true
   },
   "outputs": [],
   "source": [
    "%%time\n",
    "trainColorImages = \"ComicDataset/Train/ColorImages\"\n",
    "trainSketchImages = \"ComicDataset/Train/Black\"\n",
    "\n",
    "testColorImages = \"ComicDataset/Test/ColorImages\"\n",
    "testSketchImages = \"ComicDataset/Test/Black\"\n",
    "\n",
    "imageSet = get_images(trainColorImages, trainSketchImages)"
   ]
  },
  {
   "cell_type": "code",
   "execution_count": null,
   "metadata": {
    "colab": {
     "base_uri": "https://localhost:8080/",
     "height": 901
    },
    "colab_type": "code",
    "id": "d8TckbDgS4hs",
    "outputId": "f3360990-8543-4748-c37e-0822e0a00b43"
   },
   "outputs": [],
   "source": [
    "%%time\n",
    "_, axs = plt.subplots(2, 2, figsize=(15, 15))\n",
    "for i, d in enumerate(data_gen(imageSet, 1)):\n",
    "    _, h0, w0, c0 = d[0].shape\n",
    "    _, h1, w1, c1 = d[1].shape\n",
    "    gImg = d[0].reshape(h0, w0) * 0.5 + 0.5\n",
    "    cImg = d[1].reshape(h1, w1, c1) * 0.5 + 0.5\n",
    "    axs[i][0].imshow(gImg, cmap='Greys_r')\n",
    "    axs[i][1].imshow(cImg)\n",
    "    if(i == 1):\n",
    "        break"
   ]
  },
  {
   "cell_type": "code",
   "execution_count": null,
   "metadata": {
    "colab": {
     "base_uri": "https://localhost:8080/",
     "height": 1000
    },
    "colab_type": "code",
    "id": "OPZzOXUGS4iB",
    "outputId": "5950317e-160a-4d62-ca95-24cc375065cb"
   },
   "outputs": [],
   "source": [
    "gen = generator()\n",
    "gen.summary()"
   ]
  },
  {
   "cell_type": "code",
   "execution_count": null,
   "metadata": {
    "colab": {
     "base_uri": "https://localhost:8080/",
     "height": 1000
    },
    "colab_type": "code",
    "id": "p1dYa5h7S4iJ",
    "outputId": "d397f0d8-5c30-4226-9b3c-6d470295935e"
   },
   "outputs": [],
   "source": [
    "dis = discriminator()\n",
    "dis.summary()\n",
    "dis.compile(loss='binary_crossentropy', optimizer=Adam(1e-4), metrics=['accuracy'])"
   ]
  },
  {
   "cell_type": "code",
   "execution_count": null,
   "metadata": {
    "colab": {
     "base_uri": "https://localhost:8080/",
     "height": 269
    },
    "colab_type": "code",
    "id": "Nus8u46JS4iS",
    "outputId": "93474726-38a3-4f76-9c6f-15647a6e3037"
   },
   "outputs": [],
   "source": [
    "combined_model = cGAN(gen, dis)\n",
    "combined_model.summary()\n",
    "combined_model.compile(loss={'model_2':'binary_crossentropy', 'model_1':'mse'}, optimizer=Adam(5e-4), metrics=['accuracy'], loss_weights={'model_2':0.1, 'model_1':1})"
   ]
  },
  {
   "cell_type": "code",
   "execution_count": null,
   "metadata": {
    "colab": {},
    "colab_type": "code",
    "id": "luepo9HCBK2Z"
   },
   "outputs": [],
   "source": [
    "os.makedirs('Manga Colorization/results/Train')\n",
    "os.makedirs('Manga Colorization/results/Test')\n",
    "os.makedirs('Manga Colorization/AccuracyAndLosses')\n",
    "os.makedirs('Manga Colorization/models')"
   ]
  },
  {
   "cell_type": "code",
   "execution_count": null,
   "metadata": {
    "colab": {
     "base_uri": "https://localhost:8080/",
     "height": 138
    },
    "colab_type": "code",
    "id": "kV-RSOeyS4ia",
    "outputId": "c73fb46d-b4a1-4ba9-db81-fed0335c523c"
   },
   "outputs": [],
   "source": [
    "%%time\n",
    "batch_size = 8\n",
    "iteration = 64\n",
    "epoch = 1000\n",
    "patch_i = 18\n",
    "patch_j = 12\n",
    "discriminatorLoss, generatorLoss = [], []\n",
    "discriminatorAccuracy, generatorAccuracy = [], []\n",
    "\n",
    "trainSet = get_image_set(trainColorImages, trainSketchImages,['45.png', '416.png'])\n",
    "testSet = get_image_set(testColorImages, testSketchImages,['237.png', '441.png'])\n",
    "\n",
    "patch_ones = np.ones((batch_size, patch_i, patch_j, 1))\n",
    "patch_zeros = np.zeros((batch_size, patch_i, patch_j, 1))\n",
    "for e in range(epoch):\n",
    "    for i, d in enumerate(data_gen(imageSet, batch_size)):\n",
    "        gImg, cImg = d[0], d[1]\n",
    "        \n",
    "        r = np.random.rand(1)\n",
    "        if(r > 0.95):\n",
    "            real = patch_zeros\n",
    "            fake = patch_ones\n",
    "        else:\n",
    "            real = patch_ones\n",
    "            fake = patch_zeros\n",
    "        \n",
    "        genImg = gen.predict(gImg)\n",
    "\n",
    "        dis_loss_1 = dis.train_on_batch([gImg, cImg], real)\n",
    "        dis_loss_2 = dis.train_on_batch([gImg, genImg], fake)\n",
    "        dis_loss = 0.5 * np.add(dis_loss_1, dis_loss_2)\n",
    "\n",
    "        discriminatorLoss.append(dis_loss[0])\n",
    "        discriminatorAccuracy.append(100*dis_loss[1])\n",
    "        \n",
    "        cgan_loss = combined_model.train_on_batch([gImg], [patch_ones, cImg])\n",
    "        \n",
    "        generatorLoss.append(cgan_loss[2])\n",
    "        generatorAccuracy.append(100*cgan_loss[4])\n",
    "        \n",
    "        if(i%10 == 0):\n",
    "            print(\"Epoch %d/%d   iteration %d/%d  D Acc %3d%%  D Loss: %f  cGAN_Gen Acc: %3d%%  cGAN_Gen Loss: %f  cGAN_Dis Acc: %3d%%  cGAN_Dis Loss: %f  cGAN Total Loss %f\" % (e, epoch, i, iteration, 100*dis_loss[1], dis_loss[0], 100*cgan_loss[4], cgan_loss[2], cgan_loss[3], cgan_loss[1], cgan_loss[0]))\n",
    "        \n",
    "        if(i == iteration-1):\n",
    "            break    \n",
    "    if ((e+1) % 2 == 0):\n",
    "        rpath = 'Manga Colorization/results/'\n",
    "        for i, img in enumerate(zip(trainSet[0],trainSet[1])):\n",
    "            p = rpath + 'Train/{}_{}_result.png'.format(e,i)\n",
    "            save_and_plot_image(img[1], img[0], gen, p)\n",
    "        for i, img in enumerate(zip(testSet[0],testSet[1])):\n",
    "            p = rpath + 'Test/{}_{}_result.png'.format(e,i)\n",
    "            save_and_plot_image(img[1], img[0], gen, p)\n",
    "        \n",
    "        with open('Manga Colorization/AccuracyAndLosses/DiscriminatorLossFile.csv', mode='a') as discriminatorLossFile:\n",
    "            discriminatorLossFile_writer = csv.writer(discriminatorLossFile, delimiter=',', quotechar='\"', quoting=csv.QUOTE_MINIMAL)\n",
    "            for r in discriminatorLoss:\n",
    "                discriminatorLossFile_writer.writerow([r])\n",
    "            discriminatorLoss = []\n",
    "        \n",
    "        with open('Manga Colorization/AccuracyAndLosses/DiscriminatorAccuracyFile.csv', mode='a') as discriminatorAccuracyFile:\n",
    "            discriminatorAccuracyFile_writer = csv.writer(discriminatorAccuracyFile, delimiter=',', quotechar='\"', quoting=csv.QUOTE_MINIMAL)\n",
    "            for r in discriminatorAccuracy:\n",
    "                discriminatorAccuracyFile_writer.writerow([r])\n",
    "            discriminatorAccuracy = []\n",
    "        \n",
    "        with open('Manga Colorization/AccuracyAndLosses/GeneratorLossFile.csv', mode='a') as DCGanLossFile:\n",
    "            DCGanLossFile_writer = csv.writer(DCGanLossFile, delimiter=',', quotechar='\"', quoting=csv.QUOTE_MINIMAL)\n",
    "            for r in generatorLoss:\n",
    "                DCGanLossFile_writer.writerow([r])\n",
    "            generatorLoss = []\n",
    "        \n",
    "        with open('Manga Colorization/AccuracyAndLosses/GeneratorAccuracyFile.csv', mode='a') as generatorAccuracyFile:\n",
    "            generatorAccuracyFile_writer = csv.writer(generatorAccuracyFile, delimiter=',', quotechar='\"', quoting=csv.QUOTE_MINIMAL)\n",
    "            for r in generatorAccuracy:\n",
    "                generatorAccuracyFile_writer.writerow([r])\n",
    "            generatorAccuracy = []\n",
    "\n",
    "        gen.save('Manga Colorization/models/generator.h5')\n",
    "        dis.save('Manga Colorization/models/discriminator.h5')\n",
    "        combined_model.save('Manga Colorization/models/combined_model.h5')"
   ]
  },
  {
   "cell_type": "code",
   "execution_count": null,
   "metadata": {
    "colab": {
     "base_uri": "https://localhost:8080/",
     "height": 866
    },
    "colab_type": "code",
    "id": "Nta4gqe6S4ig",
    "outputId": "b5d48405-ace5-462b-a4e1-389e7c3f4328"
   },
   "outputs": [],
   "source": [
    "_, axs = plt.subplots(2, 3, figsize=(15, 15))\n",
    "for i, d in enumerate(data_gen(imageSet, 1)):\n",
    "    fake_A = gen.predict(d[0])\n",
    "    _, h, w, c = d[1].shape\n",
    "    \n",
    "    gImg = d[0].reshape(h, w) * 0.5 + 0.5\n",
    "    fake_A = fake_A * 0.5 + 0.5\n",
    "    cImg = d[1].reshape(h, w, c) * 0.5 + 0.5\n",
    "    axs[i][0].imshow(gImg.reshape(h, w), cmap='Greys_r')\n",
    "    axs[i][1].imshow(fake_A.reshape(h, w, c))\n",
    "    axs[i][2].imshow(cImg.reshape(h, w, c))\n",
    "    \n",
    "    if(i == 1):\n",
    "        break"
   ]
  },
  {
   "cell_type": "code",
   "execution_count": null,
   "metadata": {
    "colab": {
     "base_uri": "https://localhost:8080/",
     "height": 34
    },
    "colab_type": "code",
    "id": "jIyySM0Lkn-p",
    "outputId": "da6af2f9-6d19-488d-af51-6b10621ba138"
   },
   "outputs": [],
   "source": [
    "testSet = get_images(testColorImages, testSketchImages)"
   ]
  },
  {
   "cell_type": "code",
   "execution_count": null,
   "metadata": {
    "colab": {
     "base_uri": "https://localhost:8080/",
     "height": 866
    },
    "colab_type": "code",
    "id": "sm_C7paOkZ8P",
    "outputId": "f2061666-1c8d-43c8-81d5-5f2a63aa64e1"
   },
   "outputs": [],
   "source": [
    "_, axs = plt.subplots(2, 3, figsize=(15, 15))\n",
    "for i, d in enumerate(data_gen(testSet, 1)):\n",
    "    fake_A = gen.predict(d[0])\n",
    "    _, h, w, c = d[1].shape\n",
    "    \n",
    "    gImg = d[0].reshape(h, w) * 0.5 + 0.5\n",
    "    fake_A = fake_A * 0.5 + 0.5\n",
    "    cImg = d[1].reshape(h, w, c) * 0.5 + 0.5\n",
    "    axs[i][0].imshow(gImg.reshape(h, w), cmap='Greys_r')\n",
    "    axs[i][1].imshow(fake_A.reshape(h, w, c))\n",
    "    axs[i][2].imshow(cImg.reshape(h, w, c))\n",
    "    \n",
    "    if(i == 1):\n",
    "        break"
   ]
  },
  {
   "cell_type": "code",
   "execution_count": null,
   "metadata": {
    "colab": {},
    "colab_type": "code",
    "id": "RiA9bntlGFRO"
   },
   "outputs": [],
   "source": [
    "genLoss = []\n",
    "disLoss = []\n",
    "with open('Manga Colorization/AccuracyAndLosses/DiscriminatorLossFile.csv', newline='') as f:\n",
    "    reader = csv.reader(f)\n",
    "    disLoss = np.array([float(i[0]) for i in reader])\n",
    "with open('Manga Colorization/AccuracyAndLosses/GeneratorLossFile.csv', newline='') as f:\n",
    "    reader = csv.reader(f)\n",
    "    genLoss = np.array([float(i[0]) for i in reader])"
   ]
  },
  {
   "cell_type": "code",
   "execution_count": null,
   "metadata": {
    "colab": {
     "base_uri": "https://localhost:8080/",
     "height": 312
    },
    "colab_type": "code",
    "id": "gevADKJhpivn",
    "outputId": "f1549a68-ee79-4110-eb1a-64a20b8d234b"
   },
   "outputs": [],
   "source": [
    "plt.plot(disLoss)\n",
    "plt.plot(genLoss)\n",
    "plt.title('Model Loss')\n",
    "plt.ylabel('loss')\n",
    "plt.xlabel('iteration')\n",
    "plt.legend(['binary_crossentropy loss', 'binary_crossentropy+L2'], loc='upper right')\n",
    "plt.show()\n",
    "plt.savefig('gdrive/My Drive/Model_loss(b_l2).png')"
   ]
  },
  {
   "cell_type": "code",
   "execution_count": null,
   "metadata": {
    "colab": {
     "base_uri": "https://localhost:8080/",
     "height": 34
    },
    "colab_type": "code",
    "id": "KExW4P18ObYi",
    "outputId": "91b3c629-9b12-483e-a514-9e0b4c35cca7"
   },
   "outputs": [],
   "source": [
    "genAccuracy = []\n",
    "disAccuracy = []\n",
    "with open('Manga Colorization/AccuracyAndLosses/DiscriminatorAccuracyFile.csv', newline='') as f:\n",
    "    reader = csv.reader(f)\n",
    "    disAccuracy = np.array([float(i[0]) for i in reader])\n",
    "with open('Manga Colorization/AccuracyAndLosses/GeneratorAccuracyFile.csv', newline='') as f:\n",
    "    reader = csv.reader(f)\n",
    "    genAccuracy = np.array([float(i[0]) for i in reader])"
   ]
  },
  {
   "cell_type": "code",
   "execution_count": null,
   "metadata": {
    "colab": {
     "base_uri": "https://localhost:8080/",
     "height": 295
    },
    "colab_type": "code",
    "id": "SsXAVDigdQbP",
    "outputId": "d42187e2-f0b7-49be-eca9-479b2670d690"
   },
   "outputs": [],
   "source": [
    "plt.plot(genAccuracy)\n",
    "plt.plot(disAccuracy)\n",
    "plt.title('Model Accuracy')\n",
    "plt.ylabel('Accuracy')\n",
    "plt.xlabel('iteration')\n",
    "plt.legend(['Discriminator', 'cGAN'], loc='upper right')\n",
    "plt.show()"
   ]
  },
  {
   "cell_type": "code",
   "execution_count": null,
   "metadata": {},
   "outputs": [],
   "source": []
  }
 ],
 "metadata": {
  "accelerator": "GPU",
  "colab": {
   "collapsed_sections": [],
   "machine_shape": "hm",
   "name": "MangaColorisation.ipynb",
   "provenance": []
  },
  "kernelspec": {
   "display_name": "Python 3",
   "language": "python",
   "name": "python3"
  },
  "language_info": {
   "codemirror_mode": {
    "name": "ipython",
    "version": 3
   },
   "file_extension": ".py",
   "mimetype": "text/x-python",
   "name": "python",
   "nbconvert_exporter": "python",
   "pygments_lexer": "ipython3",
   "version": "3.7.3"
  }
 },
 "nbformat": 4,
 "nbformat_minor": 1
}
